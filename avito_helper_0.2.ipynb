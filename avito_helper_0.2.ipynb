{
 "cells": [
  {
   "cell_type": "code",
   "execution_count": 1,
   "id": "465a9cd6",
   "metadata": {},
   "outputs": [],
   "source": [
    "import bs4\n",
    "import requests\n",
    "import time\n",
    "import random\n",
    "import numpy as np\n",
    "import matplotlib.pyplot as plt\n",
    "import seaborn as sns\n",
    "\n",
    "\n",
    "\n",
    "import pandas as pd\n",
    "import numpy as np\n",
    "from io import StringIO\n",
    "import csv\n",
    "import re\n",
    "import fasttext\n",
    "\n",
    "import nltk\n",
    "from nltk.tokenize import word_tokenize\n",
    "\n",
    "import joblib"
   ]
  },
  {
   "cell_type": "code",
   "execution_count": 2,
   "id": "996a4d42",
   "metadata": {},
   "outputs": [],
   "source": [
    "stop_words = nltk.corpus.stopwords.words(\"russian\")"
   ]
  },
  {
   "cell_type": "code",
   "execution_count": 3,
   "id": "6727e324",
   "metadata": {},
   "outputs": [],
   "source": [
    "\n",
    "class AvitoHelper:\n",
    "\n",
    "    def __init__(self, vec_model, damage_model, docs_model, owner_model):\n",
    "        self.session = requests.Session()\n",
    "        self.session.headers = {\n",
    "            'User-Agent': 'Mozilla/5.0 (Windows NT 10.0; Win64; x64) AppleWebKit/537.36 (KHTML, like Gecko) Chrome/95.0.4638.54 Safari/537.36',\n",
    "            'Accept-Language': 'ru',\n",
    "        }\n",
    "        \n",
    "        self.vec_model = vec_model\n",
    "        self.damage_model = damage_model\n",
    "        self.docs_model = docs_model\n",
    "        self.owner_model = owner_model\n",
    "        \n",
    "        \n",
    "    def search(self, url, ads_quant=None):\n",
    "        \n",
    "        self.ads_quant = ads_quant\n",
    "        \n",
    "        self.search_page_url = url\n",
    "        self.get_url_ads()\n",
    "        \n",
    "        if self.ads_quant!=None:\n",
    "            for i in self.ad_url_list[:int(self.ads_quant)]:\n",
    "                time.sleep(random.uniform(3, 6))\n",
    "                self.inform('https://www.avito.ru' + i)\n",
    "        else:\n",
    "            for i in self.ad_url_list:\n",
    "                time.sleep(random.uniform(3, 6))\n",
    "                self.inform('https://www.avito.ru' + i)\n",
    "            \n",
    "        \n",
    "        \n",
    "                \n",
    "        \n",
    "    def inform(self, url):\n",
    "        \n",
    "        self.text1 = self.session.get(url).text\n",
    "        self.url = url\n",
    "        \n",
    "        try:\n",
    "            self.prep_text = self.get_text_preprocessed()\n",
    "            self.text_vec = np.mean([self.vec_model.get_word_vector(x) for x in self.prep_text.split()], axis=0)\n",
    "        except:\n",
    "            print('Что-то пошло не так')\n",
    "        \n",
    "        print('Ссылка:', self.url)\n",
    "        print(self.get_damage_classification())\n",
    "        print(self.get_docs_classification())\n",
    "        print(self.get_owner_classification())\n",
    "        self.get_poko_prices()\n",
    "        print('Цена авто:', self.get_price())\n",
    "        \n",
    "        if self.price < np.quantile(self.poko_prices, 0.25):\n",
    "            print('Подходящая цена')\n",
    "        else: \n",
    "            print('Неподходящая цена')\n",
    "        \n",
    "        if len(self.poko_prices) > 50:\n",
    "            self.get_plot()\n",
    "\n",
    "        \n",
    "    \n",
    "    def get_pokolenie_url(self):\n",
    "        \n",
    "\n",
    "        soup = bs4.BeautifulSoup(self.text1, 'lxml')\n",
    "\n",
    "        cont = soup.select('a.js-breadcrumbs-link.js-breadcrumbs-link-interaction')\n",
    "        self.pokolenie_url = str('https://www.avito.ru' + cont[-1].get('href') + '?radius=1000')\n",
    "            \n",
    "        return self.pokolenie_url\n",
    "            \n",
    "\n",
    "    def get_price(self):\n",
    "        \n",
    "\n",
    "        soup = bs4.BeautifulSoup(self.text1, 'lxml')\n",
    "\n",
    "        cont = soup.select_one('span.js-item-price')\n",
    "        self.price = int(cont.get('content'))\n",
    "        return self.price\n",
    "            \n",
    "            \n",
    "    def get_pages_lim(self, url):\n",
    "        \n",
    "        time.sleep(random.uniform(2, 5))\n",
    "\n",
    "        text = self.session.get(url).text\n",
    "        soup = bs4.BeautifulSoup(text, 'lxml')\n",
    "\n",
    "        cont = soup.select('span.pagination-item-JJq_j')\n",
    "        self.pages_lim = int(cont[-2].text)\n",
    "        \n",
    "        return self.pages_lim\n",
    "            \n",
    "            \n",
    "    def get_url_pages(self):\n",
    "        \n",
    "        poko_url = self.get_pokolenie_url()\n",
    "        page_lim = self.get_pages_lim(poko_url)\n",
    "        \n",
    "        try:\n",
    "            if page_lim<5:\n",
    "                self.url_list = [poko_url + '?p={}'.format(i) + '&radius=1000' for i in range(page_lim+1)[1:]]\n",
    "            else:\n",
    "                self.url_list = [poko_url + '?p={}'.format(i) + '&radius=1000' for i in range(6)[1:]]\n",
    "        except:\n",
    "            self.url_list = [poko_url + '?radius=1000']\n",
    "        \n",
    "        return self.url_list\n",
    "\n",
    "\n",
    "    def get_url_pages_s(self):\n",
    "        \n",
    "        page_lim_global = self.get_pages_lim(self.search_page_url)\n",
    "        \n",
    "        if self.ads_quant!=None:\n",
    "            if page_lim_global<(int(self.ads_quant/50)+1):\n",
    "                page_lim = page_lim_global\n",
    "            else:\n",
    "                page_lim = (int(self.ads_quant/50)+1)\n",
    "        else:\n",
    "            page_lim = page_lim_global\n",
    "        \n",
    "        try:\n",
    "            self.url_list_s = [self.search_page_url + '&p={}'.format(i) for i in range(page_lim+1)[1:]]\n",
    "        except:\n",
    "            self.url_list_s = [self.search_page_url]\n",
    "        \n",
    "        return self.url_list_s\n",
    "    \n",
    "    \n",
    "    def get_url_ads(self):\n",
    "        \n",
    "        self.get_url_pages_s()\n",
    "        \n",
    "        ad_url_list = []\n",
    "        \n",
    "        for i in self.url_list_s[:1]:\n",
    "            \n",
    "            time.sleep(random.uniform(2, 4))\n",
    "            \n",
    "            text = self.session.get(i).text\n",
    "            soup = bs4.BeautifulSoup(text, 'lxml')\n",
    "            \n",
    "            corp = soup.findAll('a', itemprop='url')\n",
    "            for i in corp:\n",
    "                ad_url_list.append(i.get('href'))\n",
    "        \n",
    "        self.ad_url_list = list(set(ad_url_list))\n",
    "        \n",
    "        return self.ad_url_list\n",
    "    \n",
    "            \n",
    "            \n",
    "            \n",
    "    def get_poko_prices(self):\n",
    "        \n",
    "        url_list = self.get_url_pages()\n",
    "        self.poko_prices = []\n",
    "\n",
    "        for i in url_list:\n",
    "            \n",
    "            time.sleep(random.uniform(2, 4))\n",
    "        \n",
    "            url = i\n",
    "\n",
    "            text = self.session.get(url).text\n",
    "            soup = bs4.BeautifulSoup(text, 'lxml')\n",
    "\n",
    "            cont = soup.select('span.price-price-BQkOZ')\n",
    "            for i in cont:\n",
    "                self.poko_prices.append(int(i.find('meta', itemprop=\"price\").get('content')))\n",
    "            \n",
    "    \n",
    "    def get_description(self):\n",
    "\n",
    "        soup = bs4.BeautifulSoup(self.text1, 'lxml')\n",
    "\n",
    "        self.description = soup.find('div', itemprop=\"description\")\n",
    "        \n",
    "        return self.description\n",
    "    \n",
    "    \n",
    "    def  get_text_preprocessed(self):\n",
    "        \n",
    "        text = self.get_description()\n",
    "    \n",
    "        text = re.sub(r'\\<[^>]*\\>',' ', str(text))\n",
    "        text = re.sub(r'_+',' ', text)\n",
    "        text = re.sub(r'\\W', ' ', text)\n",
    "        text = re.sub(r'\\s+[a-zA-Zа-яА-ЯёЁ]\\s+', ' ', text)\n",
    "        text = re.sub(r'\\^[a-zA-Zа-яА-ЯёЁ]\\s+', ' ', text)\n",
    "        text = re.sub(r'\\s+', ' ', text)\n",
    "        text = text.lower()\n",
    "\n",
    "        tokens = text.split()\n",
    "        tokens = [word for word in tokens if word not in stop_words]\n",
    "\n",
    "        self.preprocessed_text = ' '.join(tokens)\n",
    "\n",
    "        return self.preprocessed_text\n",
    "    \n",
    "    \n",
    "    \n",
    "    def get_damage_classification(self):\n",
    "                \n",
    "        pred = self.damage_model.predict(np.array([self.text_vec]))\n",
    "        \n",
    "        if pred[0] == 0:\n",
    "            self.damage_answ = 'Не требуется ремонт'\n",
    "        else:\n",
    "            self.damage_answ = 'Требуется ремонт или не на ходу'\n",
    "\n",
    "        return self.damage_answ\n",
    "    \n",
    "    \n",
    "    \n",
    "    def get_docs_classification(self):\n",
    "                \n",
    "        pred = self.docs_model.predict(np.array([self.text_vec]))\n",
    "        \n",
    "        if pred[0] == 0:\n",
    "            self.docs_answ = 'Документы в порядке'\n",
    "        else:\n",
    "            self.docs_answ = 'Проблемы с документами'\n",
    "\n",
    "        return self.docs_answ\n",
    "    \n",
    "    \n",
    "    \n",
    "    def get_owner_classification(self):\n",
    "                \n",
    "        pred = self.owner_model.predict(np.array([self.text_vec]))\n",
    "        \n",
    "        if pred[0] == 0:\n",
    "            self.owner_answ = 'Не является частным собственником'\n",
    "        else:\n",
    "            self.owner_answ = 'Возможно, является частным собственником'\n",
    "\n",
    "        return self.owner_answ\n",
    "            \n",
    "    \n",
    "    def get_plot(self):\n",
    "        \n",
    "        if len(self.poko_prices) < 100:\n",
    "            bins_quant = round(len(self.poko_prices)/5)\n",
    "        else:\n",
    "            bins_quant = round(len(self.poko_prices)/10)\n",
    "\n",
    "        bin_num = int((self.price-min(self.poko_prices))/((max(self.poko_prices)-min(self.poko_prices))/bins_quant))\n",
    "        n, bins, patches = plt.hist(self.poko_prices, bins=bins_quant, color='g', alpha=0.8, rwidth=0.9)\n",
    "        patches[bin_num].set_fc('r')\n",
    "        plt.show()\n",
    "            \n",
    "                "
   ]
  },
  {
   "cell_type": "code",
   "execution_count": 4,
   "id": "a710b954",
   "metadata": {},
   "outputs": [
    {
     "name": "stderr",
     "output_type": "stream",
     "text": [
      "Warning : `load_model` does not return WordVectorModel or SupervisedModel any more, but a `FastText` object which is very similar.\n"
     ]
    }
   ],
   "source": [
    "vm = fasttext.load_model(\"fil2.bin\")\n",
    "damm = joblib.load(\"model_damage.pkl\")\n",
    "docsm = joblib.load(\"model_docs.pkl\")\n",
    "owm = joblib.load(\"model_owner.pkl\")"
   ]
  },
  {
   "cell_type": "code",
   "execution_count": 5,
   "id": "fe458bce",
   "metadata": {},
   "outputs": [],
   "source": [
    "helper = AvitoHelper(vm, damm, docsm, owm)"
   ]
  },
  {
   "cell_type": "code",
   "execution_count": 6,
   "id": "c892e93c",
   "metadata": {},
   "outputs": [
    {
     "name": "stdout",
     "output_type": "stream",
     "text": [
      "Ссылка: https://www.avito.ru/moskva/avtomobili/bmw_x5_2004_2244606242\n",
      "Требуется ремонт или не на ходу\n",
      "Проблемы с документами\n",
      "Возможно, является частным собственником\n",
      "Цена авто: 379999\n",
      "Подходящая цена\n"
     ]
    },
    {
     "data": {
      "image/png": "[encoded data removed]",
      "text/plain": [
       "<Figure size 432x288 with 1 Axes>"
      ]
     },
     "metadata": {
      "needs_background": "light"
     },
     "output_type": "display_data"
    }
   ],
   "source": [
    "helper.inform('https://www.avito.ru/moskva/avtomobili/bmw_x5_2004_2244606242')"
   ]
  },
  {
   "cell_type": "code",
   "execution_count": 7,
   "id": "cc85c95d",
   "metadata": {},
   "outputs": [
    {
     "name": "stdout",
     "output_type": "stream",
     "text": [
      "Ссылка: https://www.avito.ru/sankt-peterburg/avtomobili/mercedes-benz_gl-klass_2013_2247511408\n",
      "Не требуется ремонт\n",
      "Документы в порядке\n",
      "Не является частным собственником\n",
      "Цена авто: 2159000\n",
      "Подходящая цена\n"
     ]
    },
    {
     "data": {
      "image/png": "[encoded data removed]",
      "text/plain": [
       "<Figure size 432x288 with 1 Axes>"
      ]
     },
     "metadata": {
      "needs_background": "light"
     },
     "output_type": "display_data"
    },
    {
     "name": "stdout",
     "output_type": "stream",
     "text": [
      "Ссылка: https://www.avito.ru/sankt-peterburg/avtomobili/skoda_octavia_2017_2265403527\n",
      "Не требуется ремонт\n",
      "Документы в порядке\n",
      "Не является частным собственником\n",
      "Цена авто: 1749000\n",
      "Неподходящая цена\n"
     ]
    },
    {
     "data": {
      "image/png": "[encoded data removed]",
      "text/plain": [
       "<Figure size 432x288 with 1 Axes>"
      ]
     },
     "metadata": {
      "needs_background": "light"
     },
     "output_type": "display_data"
    },
    {
     "name": "stdout",
     "output_type": "stream",
     "text": [
      "Ссылка: https://www.avito.ru/kudrovo/avtomobili/mercedes-benz_s-klass_2012_2212860099\n",
      "Не требуется ремонт\n",
      "Документы в порядке\n",
      "Не является частным собственником\n",
      "Цена авто: 1700000\n",
      "Неподходящая цена\n"
     ]
    },
    {
     "data": {
      "image/png": "[encoded data removed]",
      "text/plain": [
       "<Figure size 432x288 with 1 Axes>"
      ]
     },
     "metadata": {
      "needs_background": "light"
     },
     "output_type": "display_data"
    },
    {
     "name": "stdout",
     "output_type": "stream",
     "text": [
      "Ссылка: https://www.avito.ru/sankt-peterburg/avtomobili/mercedes-benz_gle-klass_2019_2242332255\n",
      "Не требуется ремонт\n",
      "Документы в порядке\n",
      "Не является частным собственником\n",
      "Цена авто: 5700000\n",
      "Неподходящая цена\n"
     ]
    },
    {
     "data": {
      "image/png": "[encoded data removed]",
      "text/plain": [
       "<Figure size 432x288 with 1 Axes>"
      ]
     },
     "metadata": {
      "needs_background": "light"
     },
     "output_type": "display_data"
    }
   ],
   "source": [
    "helper.search('https://www.avito.ru/sankt-peterburg/avtomobili/s_probegom-ASgBAgICAUSGFMjmAQ?radius=100', 4)"
   ]
  },
  {
   "cell_type": "code",
   "execution_count": null,
   "id": "9882fe3b",
   "metadata": {},
   "outputs": [],
   "source": []
  }
 ],
 "metadata": {
  "kernelspec": {
   "display_name": "Python 3",
   "language": "python",
   "name": "python3"
  },
  "language_info": {
   "codemirror_mode": {
    "name": "ipython",
    "version": 3
   },
   "file_extension": ".py",
   "mimetype": "text/x-python",
   "name": "python",
   "nbconvert_exporter": "python",
   "pygments_lexer": "ipython3",
   "version": "3.8.8"
  }
 },
 "nbformat": 4,
 "nbformat_minor": 5
}
