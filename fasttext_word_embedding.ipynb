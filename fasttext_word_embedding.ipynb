{
 "cells": [
  {
   "cell_type": "code",
   "execution_count": 2,
   "id": "f506ac5d",
   "metadata": {},
   "outputs": [],
   "source": [
    "import pandas as pd\n",
    "import numpy as np\n",
    "from io import StringIO\n",
    "import csv\n",
    "import re\n",
    "import fasttext"
   ]
  },
  {
   "cell_type": "code",
   "execution_count": 3,
   "id": "168f4429",
   "metadata": {},
   "outputs": [],
   "source": [
    "a1 = list(pd.read_csv('text_chastnick_32904.csv')['0'])\n",
    "a2 = list(pd.read_csv('text_companii_28802.csv')['0'])\n",
    "a3 = list(pd.read_csv('text_corpus_47215.csv')['0'])\n",
    "a4 = list(pd.read_csv('text_damaged_7059.csv')['0'])\n",
    "a5 = list(pd.read_csv('text_docsok_37619.csv')['0'])\n",
    "a6 = list(pd.read_csv('text_no_damaged_37615.csv')['0'])\n",
    "a7 = list(pd.read_csv('text_nodocs_actual_2355.csv')['0'])\n",
    "a8 = list(pd.read_csv('text_nodocs_arh_5000.csv')['0'])\n",
    "a9 = list(pd.read_csv('text_sobstvennic_20768.csv')['0'])"
   ]
  },
  {
   "cell_type": "code",
   "execution_count": 4,
   "id": "ee40bfb0",
   "metadata": {},
   "outputs": [
    {
     "data": {
      "text/plain": [
       "(89120, 1)"
      ]
     },
     "execution_count": 4,
     "metadata": {},
     "output_type": "execute_result"
    }
   ],
   "source": [
    "df_all = pd.DataFrame(set(a1 + a2 + a3 + a4 + a5 + a6 + a7 + a8 + a9), columns=['text'])\n",
    "df_all.shape"
   ]
  },
  {
   "cell_type": "code",
   "execution_count": 5,
   "id": "f2aa7156",
   "metadata": {},
   "outputs": [
    {
     "data": {
      "text/html": [
       "<div>\n",
       "<style scoped>\n",
       "    .dataframe tbody tr th:only-of-type {\n",
       "        vertical-align: middle;\n",
       "    }\n",
       "\n",
       "    .dataframe tbody tr th {\n",
       "        vertical-align: top;\n",
       "    }\n",
       "\n",
       "    .dataframe thead th {\n",
       "        text-align: right;\n",
       "    }\n",
       "</style>\n",
       "<table border=\"1\" class=\"dataframe\">\n",
       "  <thead>\n",
       "    <tr style=\"text-align: right;\">\n",
       "      <th></th>\n",
       "      <th>text</th>\n",
       "    </tr>\n",
       "  </thead>\n",
       "  <tbody>\n",
       "    <tr>\n",
       "      <th>0</th>\n",
       "      <td>Комплектация самая простая без кондиционера . ...</td>\n",
       "    </tr>\n",
       "    <tr>\n",
       "      <th>1</th>\n",
       "      <td>Куплена в 2014 году, Полный привод, климат-кон...</td>\n",
       "    </tr>\n",
       "    <tr>\n",
       "      <th>2</th>\n",
       "      <td>Продам надежный авто , мотор Гильзованный ( ес...</td>\n",
       "    </tr>\n",
       "    <tr>\n",
       "      <th>3</th>\n",
       "      <td>Отличный городской седан, с автоматом и недоро...</td>\n",
       "    </tr>\n",
       "    <tr>\n",
       "      <th>4</th>\n",
       "      <td>Музыка, сигнализация, кондиционер, ЭУР.\\n\\nАвт...</td>\n",
       "    </tr>\n",
       "    <tr>\n",
       "      <th>5</th>\n",
       "      <td>-TRADE-IN-\\n\\n-КРЕДИТ-\\n\\n-СТРАХОВАНИЕ-\\n\\n-АВ...</td>\n",
       "    </tr>\n",
       "    <tr>\n",
       "      <th>6</th>\n",
       "      <td>Продаю свою Kia Picanto (второй собственник, в...</td>\n",
       "    </tr>\n",
       "    <tr>\n",
       "      <th>7</th>\n",
       "      <td>Продам в хорошие руки белоснежную красавицу.\\n...</td>\n",
       "    </tr>\n",
       "    <tr>\n",
       "      <th>8</th>\n",
       "      <td>учёт Армении в отличном состоянии.На руках ГТД...</td>\n",
       "    </tr>\n",
       "    <tr>\n",
       "      <th>9</th>\n",
       "      <td>ваз-2106 в ОТС! Один хозяин (дедушка) летняя э...</td>\n",
       "    </tr>\n",
       "  </tbody>\n",
       "</table>\n",
       "</div>"
      ],
      "text/plain": [
       "                                                text\n",
       "0  Комплектация самая простая без кондиционера . ...\n",
       "1  Куплена в 2014 году, Полный привод, климат-кон...\n",
       "2  Продам надежный авто , мотор Гильзованный ( ес...\n",
       "3  Отличный городской седан, с автоматом и недоро...\n",
       "4  Музыка, сигнализация, кондиционер, ЭУР.\\n\\nАвт...\n",
       "5  -TRADE-IN-\\n\\n-КРЕДИТ-\\n\\n-СТРАХОВАНИЕ-\\n\\n-АВ...\n",
       "6  Продаю свою Kia Picanto (второй собственник, в...\n",
       "7  Продам в хорошие руки белоснежную красавицу.\\n...\n",
       "8  учёт Армении в отличном состоянии.На руках ГТД...\n",
       "9  ваз-2106 в ОТС! Один хозяин (дедушка) летняя э..."
      ]
     },
     "execution_count": 5,
     "metadata": {},
     "output_type": "execute_result"
    }
   ],
   "source": [
    "df_all.head(10)"
   ]
  },
  {
   "cell_type": "code",
   "execution_count": 6,
   "id": "acb0f785",
   "metadata": {},
   "outputs": [],
   "source": [
    "def text_prepear(text):\n",
    "\n",
    "    text = re.sub(r'\\S+#\\S+;',' ', str(text))\n",
    "\n",
    "    text = re.sub(r'#\\S+',' ', text)\n",
    "\n",
    "    text = re.sub(r'\\S+#',' ', text)\n",
    "\n",
    "    text = re.sub(r'_+',' ', text)\n",
    "\n",
    "    text = re.sub(r'\\W', ' ', text)\n",
    "\n",
    "    text = re.sub(r'\\s+[a-zA-Zа-яА-ЯёЁ]\\s+', ' ', text)\n",
    "\n",
    "    text = re.sub(r'\\^[a-zA-Zа-яА-ЯёЁ]\\s+', ' ', text)\n",
    "\n",
    "    text = re.sub(r'\\s+', ' ', text)\n",
    "\n",
    "    text = text.lower()\n",
    "    \n",
    "    return text"
   ]
  },
  {
   "cell_type": "code",
   "execution_count": 7,
   "id": "d58d5b64",
   "metadata": {},
   "outputs": [
    {
     "data": {
      "text/html": [
       "<div>\n",
       "<style scoped>\n",
       "    .dataframe tbody tr th:only-of-type {\n",
       "        vertical-align: middle;\n",
       "    }\n",
       "\n",
       "    .dataframe tbody tr th {\n",
       "        vertical-align: top;\n",
       "    }\n",
       "\n",
       "    .dataframe thead th {\n",
       "        text-align: right;\n",
       "    }\n",
       "</style>\n",
       "<table border=\"1\" class=\"dataframe\">\n",
       "  <thead>\n",
       "    <tr style=\"text-align: right;\">\n",
       "      <th></th>\n",
       "      <th>text</th>\n",
       "      <th>text_prep</th>\n",
       "    </tr>\n",
       "  </thead>\n",
       "  <tbody>\n",
       "    <tr>\n",
       "      <th>0</th>\n",
       "      <td>Комплектация самая простая без кондиционера . ...</td>\n",
       "      <td>комплектация самая простая без кондиционера ку...</td>\n",
       "    </tr>\n",
       "    <tr>\n",
       "      <th>1</th>\n",
       "      <td>Куплена в 2014 году, Полный привод, климат-кон...</td>\n",
       "      <td>куплена 2014 году полный привод климат контрол...</td>\n",
       "    </tr>\n",
       "    <tr>\n",
       "      <th>2</th>\n",
       "      <td>Продам надежный авто , мотор Гильзованный ( ес...</td>\n",
       "      <td>продам надежный авто мотор гильзованный есть п...</td>\n",
       "    </tr>\n",
       "    <tr>\n",
       "      <th>3</th>\n",
       "      <td>Отличный городской седан, с автоматом и недоро...</td>\n",
       "      <td>отличный городской седан автоматом недорогим о...</td>\n",
       "    </tr>\n",
       "    <tr>\n",
       "      <th>4</th>\n",
       "      <td>Музыка, сигнализация, кондиционер, ЭУР.\\n\\nАвт...</td>\n",
       "      <td>музыка сигнализация кондиционер эур автомобиль...</td>\n",
       "    </tr>\n",
       "    <tr>\n",
       "      <th>5</th>\n",
       "      <td>-TRADE-IN-\\n\\n-КРЕДИТ-\\n\\n-СТРАХОВАНИЕ-\\n\\n-АВ...</td>\n",
       "      <td>trade in кредит страхование автообмен быстрый...</td>\n",
       "    </tr>\n",
       "    <tr>\n",
       "      <th>6</th>\n",
       "      <td>Продаю свою Kia Picanto (второй собственник, в...</td>\n",
       "      <td>продаю свою kia picanto второй собственник птс...</td>\n",
       "    </tr>\n",
       "    <tr>\n",
       "      <th>7</th>\n",
       "      <td>Продам в хорошие руки белоснежную красавицу.\\n...</td>\n",
       "      <td>продам хорошие руки белоснежную красавицу niss...</td>\n",
       "    </tr>\n",
       "    <tr>\n",
       "      <th>8</th>\n",
       "      <td>учёт Армении в отличном состоянии.На руках ГТД...</td>\n",
       "      <td>учёт армении отличном состоянии на руках гтд п...</td>\n",
       "    </tr>\n",
       "    <tr>\n",
       "      <th>9</th>\n",
       "      <td>ваз-2106 в ОТС! Один хозяин (дедушка) летняя э...</td>\n",
       "      <td>ваз 2106 отс один хозяин дедушка летняя эксплу...</td>\n",
       "    </tr>\n",
       "  </tbody>\n",
       "</table>\n",
       "</div>"
      ],
      "text/plain": [
       "                                                text  \\\n",
       "0  Комплектация самая простая без кондиционера . ...   \n",
       "1  Куплена в 2014 году, Полный привод, климат-кон...   \n",
       "2  Продам надежный авто , мотор Гильзованный ( ес...   \n",
       "3  Отличный городской седан, с автоматом и недоро...   \n",
       "4  Музыка, сигнализация, кондиционер, ЭУР.\\n\\nАвт...   \n",
       "5  -TRADE-IN-\\n\\n-КРЕДИТ-\\n\\n-СТРАХОВАНИЕ-\\n\\n-АВ...   \n",
       "6  Продаю свою Kia Picanto (второй собственник, в...   \n",
       "7  Продам в хорошие руки белоснежную красавицу.\\n...   \n",
       "8  учёт Армении в отличном состоянии.На руках ГТД...   \n",
       "9  ваз-2106 в ОТС! Один хозяин (дедушка) летняя э...   \n",
       "\n",
       "                                           text_prep  \n",
       "0  комплектация самая простая без кондиционера ку...  \n",
       "1  куплена 2014 году полный привод климат контрол...  \n",
       "2  продам надежный авто мотор гильзованный есть п...  \n",
       "3  отличный городской седан автоматом недорогим о...  \n",
       "4  музыка сигнализация кондиционер эур автомобиль...  \n",
       "5   trade in кредит страхование автообмен быстрый...  \n",
       "6  продаю свою kia picanto второй собственник птс...  \n",
       "7  продам хорошие руки белоснежную красавицу niss...  \n",
       "8  учёт армении отличном состоянии на руках гтд п...  \n",
       "9  ваз 2106 отс один хозяин дедушка летняя эксплу...  "
      ]
     },
     "execution_count": 7,
     "metadata": {},
     "output_type": "execute_result"
    }
   ],
   "source": [
    "df_all['text_prep'] = df_all['text'].apply(text_prepear)\n",
    "df_all.head(10)"
   ]
  },
  {
   "cell_type": "code",
   "execution_count": 8,
   "id": "1b344610",
   "metadata": {},
   "outputs": [],
   "source": [
    "df_all['text_prep'].to_csv('vocab_unsup.txt', index=False, sep=' ', header=False, quoting=csv.QUOTE_NONE, quotechar=\"\", escapechar=\" \")"
   ]
  },
  {
   "cell_type": "code",
   "execution_count": null,
   "id": "ff281fce",
   "metadata": {},
   "outputs": [],
   "source": [
    "model = fasttext.train_unsupervised('vocab_unsup.txt')"
   ]
  },
  {
   "cell_type": "code",
   "execution_count": null,
   "id": "51e2a871",
   "metadata": {},
   "outputs": [],
   "source": [
    "model.save_model(\"fil1.bin\")"
   ]
  },
  {
   "cell_type": "code",
   "execution_count": null,
   "id": "a8d93a7e",
   "metadata": {},
   "outputs": [],
   "source": [
    "# ###################"
   ]
  },
  {
   "cell_type": "code",
   "execution_count": null,
   "id": "c84d9084",
   "metadata": {},
   "outputs": [],
   "source": [
    "import nltk\n",
    "from nltk.tokenize import word_tokenize"
   ]
  },
  {
   "cell_type": "code",
   "execution_count": null,
   "id": "a518e725",
   "metadata": {},
   "outputs": [],
   "source": [
    "stop_words = nltk.corpus.stopwords.words(\"russian\")"
   ]
  },
  {
   "cell_type": "code",
   "execution_count": null,
   "id": "99e597bc",
   "metadata": {},
   "outputs": [],
   "source": [
    "def text_prepear2(text):\n",
    "\n",
    "    text = re.sub(r'\\S+#\\S+;',' ', str(text))\n",
    "\n",
    "    text = re.sub(r'#\\S+',' ', text)\n",
    "\n",
    "    text = re.sub(r'\\S+#',' ', text)\n",
    "\n",
    "    text = re.sub(r'_+',' ', text)\n",
    "\n",
    "    text = re.sub(r'\\W', ' ', text)\n",
    "\n",
    "    text = re.sub(r'\\s+[a-zA-Zа-яА-ЯёЁ]\\s+', ' ', text)\n",
    "\n",
    "    text = re.sub(r'\\^[a-zA-Zа-яА-ЯёЁ]\\s+', ' ', text)\n",
    "\n",
    "    text = re.sub(r'\\s+', ' ', text)\n",
    "\n",
    "    text = text.lower()\n",
    "    \n",
    "    tokens = text.split()\n",
    "    \n",
    "    tokens = [word for word in tokens if word not in stop_words]\n",
    "    \n",
    "    preprocessed_text = ' '.join(tokens)\n",
    "    \n",
    "    return preprocessed_text"
   ]
  },
  {
   "cell_type": "code",
   "execution_count": null,
   "id": "25ce159e",
   "metadata": {},
   "outputs": [],
   "source": [
    "df_all['text_prep'] = df_all['text'].apply(text_prepear2)\n",
    "df_all['text_prep'] = df_all['text_prep'].apply(lambda x: 'for drop' if len(x)<5 else x)\n",
    "df_all.drop(df_all[df_all['text_prep'] == 'for drop'].index, inplace=True)"
   ]
  },
  {
   "cell_type": "code",
   "execution_count": null,
   "id": "1da68e56",
   "metadata": {},
   "outputs": [],
   "source": [
    "df_all['text_prep'].to_csv('vocab2_unsup_stopw.txt', index=False, sep=' ', header=False, quoting=csv.QUOTE_NONE, quotechar=\"\", escapechar=\" \")"
   ]
  },
  {
   "cell_type": "code",
   "execution_count": null,
   "id": "a30d6ffe",
   "metadata": {},
   "outputs": [],
   "source": [
    "model = fasttext.train_unsupervised('vocab2_unsup_stopw.txt')"
   ]
  },
  {
   "cell_type": "code",
   "execution_count": null,
   "id": "d722375a",
   "metadata": {},
   "outputs": [],
   "source": [
    "model.save_model(\"fil2.bin\")"
   ]
  },
  {
   "cell_type": "code",
   "execution_count": null,
   "id": "60d3fcd0",
   "metadata": {},
   "outputs": [],
   "source": [
    "# #####################"
   ]
  },
  {
   "cell_type": "code",
   "execution_count": null,
   "id": "2c2525ea",
   "metadata": {},
   "outputs": [],
   "source": [
    "import pymorphy2\n",
    "morph = pymorphy2.MorphAnalyzer()"
   ]
  },
  {
   "cell_type": "code",
   "execution_count": null,
   "id": "3894ca69",
   "metadata": {},
   "outputs": [],
   "source": [
    "def lemmat(text):\n",
    "    morph = pymorphy2.MorphAnalyzer()\n",
    "    lemmas = [morph.parse(word)[0].normal_form for word in text.split()]\n",
    "    return ' '.join(lemmas)"
   ]
  },
  {
   "cell_type": "code",
   "execution_count": null,
   "id": "e9934709",
   "metadata": {},
   "outputs": [],
   "source": [
    "def text_prepear3(text):\n",
    "\n",
    "    text = re.sub(r'\\S+#\\S+;',' ', str(text))\n",
    "\n",
    "    text = re.sub(r'#\\S+',' ', text)\n",
    "\n",
    "    text = re.sub(r'\\S+#',' ', text)\n",
    "\n",
    "    text = re.sub(r'_+',' ', text)\n",
    "\n",
    "    text = re.sub(r'\\W', ' ', text)\n",
    "\n",
    "    text = re.sub(r'\\s+[a-zA-Zа-яА-ЯёЁ]\\s+', ' ', text)\n",
    "\n",
    "    text = re.sub(r'\\^[a-zA-Zа-яА-ЯёЁ]\\s+', ' ', text)\n",
    "\n",
    "    text = re.sub(r'\\s+', ' ', text)\n",
    "\n",
    "    text = text.lower()\n",
    "    \n",
    "    tokens = text.split()\n",
    "    \n",
    "    tokens = [word for word in tokens if word not in stop_words]\n",
    "    \n",
    "    pre_text = ' '.join(tokens)\n",
    "    \n",
    "    preprocessed_text = lemmat(pre_text)\n",
    "    \n",
    "    return preprocessed_text"
   ]
  },
  {
   "cell_type": "code",
   "execution_count": null,
   "id": "b23a26f8",
   "metadata": {},
   "outputs": [],
   "source": [
    "%%time\n",
    "df_all['text'][:100].apply(text_prepear3)"
   ]
  },
  {
   "cell_type": "code",
   "execution_count": null,
   "id": "ac8bd6b9",
   "metadata": {},
   "outputs": [],
   "source": [
    "%%time\n",
    "df_all['text_prep'] = df_all['text'].apply(text_prepear3)"
   ]
  },
  {
   "cell_type": "code",
   "execution_count": null,
   "id": "d1ce530b",
   "metadata": {},
   "outputs": [],
   "source": []
  },
  {
   "cell_type": "code",
   "execution_count": null,
   "id": "c5e8b9f9",
   "metadata": {},
   "outputs": [],
   "source": []
  }
 ],
 "metadata": {
  "kernelspec": {
   "display_name": "Python 3",
   "language": "python",
   "name": "python3"
  },
  "language_info": {
   "codemirror_mode": {
    "name": "ipython",
    "version": 3
   },
   "file_extension": ".py",
   "mimetype": "text/x-python",
   "name": "python",
   "nbconvert_exporter": "python",
   "pygments_lexer": "ipython3",
   "version": "3.8.8"
  }
 },
 "nbformat": 4,
 "nbformat_minor": 5
}
