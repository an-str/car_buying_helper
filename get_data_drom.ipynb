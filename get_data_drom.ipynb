{
 "cells": [
  {
   "cell_type": "code",
   "execution_count": 1,
   "id": "7672212a",
   "metadata": {},
   "outputs": [],
   "source": [
    "import datetime\n",
    "import urllib.parse\n",
    "from collections import namedtuple\n",
    "\n",
    "import bs4\n",
    "import requests\n",
    "\n",
    "import json\n",
    "import pandas as pd\n",
    "import os"
   ]
  },
  {
   "cell_type": "code",
   "execution_count": 2,
   "id": "a80a3b7b",
   "metadata": {},
   "outputs": [],
   "source": [
    "# 25 регионов:\n",
    "# Волгоградская область\n",
    "# Воронежская область\n",
    "# Кемеровская область\n",
    "# Краснодарский край\n",
    "# Красноярский край\n",
    "# Москва\n",
    "# Московская область\n",
    "# Нижегородская область\n",
    "# Новосибирская область\n",
    "# Омская область\n",
    "# Оренбургская область\n",
    "# Пермский край\n",
    "# Республика Башкортостан\n",
    "# Республика Татарстан\n",
    "# Ростовская область\n",
    "# Самарская область\n",
    "# Санкт-Петербург\n",
    "# Саратовская область\n",
    "# Свердловская область\n",
    "# Ставропольский край\n",
    "# Томская область\n",
    "# Тюменская область\n",
    "# Удмуртская Республика\n",
    "# Челябинская область\n",
    "# Ярославская область"
   ]
  },
  {
   "cell_type": "code",
   "execution_count": 3,
   "id": "3100f1f4",
   "metadata": {},
   "outputs": [],
   "source": [
    "text_corpus = []\n",
    "page = []"
   ]
  },
  {
   "cell_type": "code",
   "execution_count": 4,
   "id": "21fbfff6",
   "metadata": {},
   "outputs": [
    {
     "name": "stdout",
     "output_type": "stream",
     "text": [
      "Wall time: 0 ns\n"
     ]
    }
   ],
   "source": [
    "%%time\n",
    "\n",
    "class DromParser:\n",
    "\n",
    "    def __init__(self):\n",
    "        self.session = requests.Session()\n",
    "        self.session.headers = {\n",
    "            'User-Agent': 'Mozilla/5.0 (Windows NT 10.0; Win64; x64) AppleWebKit/537.36 (KHTML, like Gecko) Chrome/95.0.4638.54 Safari/537.36',\n",
    "            'Accept-Language': 'ru',\n",
    "        }\n",
    "        \n",
    "    def parse_all(self):\n",
    "        print(f'Всего страниц: {len(urls)}')\n",
    "        self.get_description()\n",
    "    \n",
    "    \n",
    "    def get_ad_url(self):\n",
    "        \n",
    "        for i in urls:\n",
    "\n",
    "            url = i\n",
    "\n",
    "            text = self.session.get(url).text\n",
    "            soup = bs4.BeautifulSoup(text, 'lxml')\n",
    "\n",
    "            cont = soup.select('a.css-1psewqh.ewrty961')\n",
    "            for j in cont:\n",
    "                uurls.append(j.get('href'))\n",
    "                \n",
    "                \n",
    "                \n",
    "    def get_description(self):\n",
    "        \n",
    "        for i in urls:\n",
    "\n",
    "            url = i\n",
    "\n",
    "            text = self.session.get(url).text\n",
    "            soup = bs4.BeautifulSoup(text, 'lxml')\n",
    "\n",
    "            cont = soup.findAll('script', type='application/ld+json')\n",
    "            for j in cont[1:]:\n",
    "                try:\n",
    "                    text_corpus.append(json.loads(j.contents[0])['description'])\n",
    "                except:\n",
    "                    pass\n",
    "                \n",
    "                \n",
    "                \n",
    "    def get_desc_arh(self):\n",
    "        \n",
    "        for i in urls:\n",
    "\n",
    "            url = i\n",
    "\n",
    "            text = self.session.get(url).text\n",
    "            soup = bs4.BeautifulSoup(text, 'lxml')\n",
    "            try:\n",
    "                text_corpus.append(soup.select_one('span.css-sts55n.e162wx9x0').text)\n",
    "            except:\n",
    "                pass\n",
    "\n",
    "\n",
    "\n",
    "            \n",
    "def main():\n",
    "    p = DromParser()\n",
    "    p.parse_all()\n"
   ]
  },
  {
   "cell_type": "code",
   "execution_count": 5,
   "id": "a9529106",
   "metadata": {},
   "outputs": [],
   "source": [
    "urls = ['https://auto.drom.ru/region76/used/all/page80/?owner_type=2']"
   ]
  }
 ],
 "metadata": {
  "kernelspec": {
   "display_name": "Python 3",
   "language": "python",
   "name": "python3"
  },
  "language_info": {
   "codemirror_mode": {
    "name": "ipython",
    "version": 3
   },
   "file_extension": ".py",
   "mimetype": "text/x-python",
   "name": "python",
   "nbconvert_exporter": "python",
   "pygments_lexer": "ipython3",
   "version": "3.8.8"
  }
 },
 "nbformat": 4,
 "nbformat_minor": 5
}
